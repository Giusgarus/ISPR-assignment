{
  "cells": [
    {
      "cell_type": "markdown",
      "metadata": {
        "id": "view-in-github",
        "colab_type": "text"
      },
      "source": [
        "<a href=\"https://colab.research.google.com/github/Giusgarus/ISPR-assignment/blob/main/ISPR_PyTorch.ipynb\" target=\"_parent\"><img src=\"https://colab.research.google.com/assets/colab-badge.svg\" alt=\"Open In Colab\"/></a>"
      ]
    },
    {
      "cell_type": "markdown",
      "metadata": {
        "id": "hubWOvFpYFpJ"
      },
      "source": [
        "![PyTorch](https://upload.wikimedia.org/wikipedia/commons/thumb/c/c6/PyTorch_logo_black.svg/640px-PyTorch_logo_black.svg.png)"
      ]
    },
    {
      "cell_type": "code",
      "execution_count": 2,
      "metadata": {
        "id": "u3pNex87YFpL",
        "outputId": "3d988350-4ae3-4efb-e0c5-381dfbda74da",
        "colab": {
          "base_uri": "https://localhost:8080/"
        }
      },
      "outputs": [
        {
          "output_type": "stream",
          "name": "stdout",
          "text": [
            "Using torch v2.6.0+cu124\n"
          ]
        }
      ],
      "source": [
        "import torch\n",
        "\n",
        "print(f\"Using torch v{torch.__version__}\")"
      ]
    },
    {
      "cell_type": "markdown",
      "metadata": {
        "id": "nE9EZPFAbzUI"
      },
      "source": [
        "## Tensor Initialization"
      ]
    },
    {
      "cell_type": "code",
      "execution_count": 3,
      "metadata": {
        "id": "fnwj2LpIYFpL",
        "outputId": "5976ec4c-05ee-43b6-df49-d4cf32f8e47f",
        "colab": {
          "base_uri": "https://localhost:8080/"
        }
      },
      "outputs": [
        {
          "output_type": "stream",
          "name": "stdout",
          "text": [
            "Shape:   torch.Size([4, 5, 3])\n",
            "Type:    torch.float32\n",
            "Layout:  torch.strided\n"
          ]
        }
      ],
      "source": [
        "# Initialize zero dense tensor\n",
        "dims = (4, 5, 3)\n",
        "t = torch.zeros(*dims)\n",
        "print(f\"Shape:   {t.shape}\")\n",
        "print(f\"Type:    {t.dtype}\")\n",
        "print(f\"Layout:  {t.layout}\")"
      ]
    },
    {
      "cell_type": "code",
      "execution_count": 4,
      "metadata": {
        "id": "27zTiqgzYFpM",
        "outputId": "28a3ede1-2a3e-49ec-9dc1-e752213eb840",
        "colab": {
          "base_uri": "https://localhost:8080/"
        }
      },
      "outputs": [
        {
          "output_type": "stream",
          "name": "stdout",
          "text": [
            "Shape:   torch.Size([4, 5, 3])\n",
            "Type:    torch.float32\n",
            "Layout:  torch.sparse_coo\n"
          ]
        }
      ],
      "source": [
        "# Initialize zero sparse tensor\n",
        "t = torch.zeros(*dims, layout=torch.sparse_coo)\n",
        "print(f\"Shape:   {t.shape}\")\n",
        "print(f\"Type:    {t.dtype}\")\n",
        "print(f\"Layout:  {t.layout}\")"
      ]
    },
    {
      "cell_type": "code",
      "execution_count": 5,
      "metadata": {
        "id": "vq0IF0X8YFpM",
        "outputId": "2963b1bd-111d-40e7-f8fd-0de6af736107",
        "colab": {
          "base_uri": "https://localhost:8080/"
        }
      },
      "outputs": [
        {
          "output_type": "stream",
          "name": "stdout",
          "text": [
            "dtype t1: torch.float32\n",
            "dtype t2: torch.float32\n",
            "dtype t3: torch.int64\n"
          ]
        }
      ],
      "source": [
        "# Random tensor\n",
        "t1 = torch.randn(*dims) # Normal Distribution\n",
        "t2 = torch.rand(*dims)  # Uniform Distribution\n",
        "t3 = torch.randint(-10, 10, dims) # Unif Dist. (Categorical)\n",
        "\n",
        "print(f\"dtype t1: {t1.dtype}\")\n",
        "print(f\"dtype t2: {t2.dtype}\")\n",
        "print(f\"dtype t3: {t3.dtype}\")"
      ]
    },
    {
      "cell_type": "code",
      "execution_count": 6,
      "metadata": {
        "id": "At55DuUX4RWx",
        "outputId": "71403f46-d3c9-4477-aca2-975b20ef9ba6",
        "colab": {
          "base_uri": "https://localhost:8080/"
        }
      },
      "outputs": [
        {
          "output_type": "stream",
          "name": "stdout",
          "text": [
            "dtype t4: torch.float32\n"
          ]
        }
      ],
      "source": [
        "# Types are casted by operators\n",
        "t4 = t1 + t2 * t3\n",
        "print(f\"dtype t4: {t4.dtype}\")"
      ]
    },
    {
      "cell_type": "code",
      "execution_count": 7,
      "metadata": {
        "id": "-LPCV9wU5Fxu",
        "outputId": "ef596437-d834-4575-b4a0-61404934f44e",
        "colab": {
          "base_uri": "https://localhost:8080/"
        }
      },
      "outputs": [
        {
          "output_type": "stream",
          "name": "stdout",
          "text": [
            "t5 (torch.int64) =\n",
            " tensor([[0, 1],\n",
            "        [0, 0],\n",
            "        [0, 1]])\n",
            "t6 (torch.bool) =\n",
            " tensor([[False,  True],\n",
            "        [False, False],\n",
            "        [False,  True]])\n",
            "t7 (torch.float32) =\n",
            " tensor([[0., 1.],\n",
            "        [0., 0.],\n",
            "        [0., 1.]])\n",
            "t8 (torch.int64) =\n",
            " tensor([[0, 1],\n",
            "        [0, 0],\n",
            "        [0, 1]])\n",
            "t9 (torch.float64) =\n",
            " tensor([[0., 1.],\n",
            "        [0., 0.],\n",
            "        [0., 1.]], dtype=torch.float64)\n"
          ]
        }
      ],
      "source": [
        "# ...or manually casted\n",
        "torch.random.manual_seed(42)\n",
        "dims = (3, 2)\n",
        "t5 = torch.randint(0, 2, dims)\n",
        "t6 = t5.bool()\n",
        "t7 = t5.float()\n",
        "t8 = t5.long()\n",
        "t9 = t5.double()\n",
        "print(f\"t5 ({t5.dtype}) =\\n {t5}\")\n",
        "print(f\"t6 ({t6.dtype}) =\\n {t6}\")\n",
        "print(f\"t7 ({t7.dtype}) =\\n {t7}\")\n",
        "print(f\"t8 ({t8.dtype}) =\\n {t8}\")\n",
        "print(f\"t9 ({t9.dtype}) =\\n {t9}\")"
      ]
    },
    {
      "cell_type": "markdown",
      "metadata": {
        "id": "eYSuCEfyOd6O"
      },
      "source": [
        "## Tensors in GPU"
      ]
    },
    {
      "cell_type": "code",
      "execution_count": 8,
      "metadata": {
        "id": "btRuxv0O4oTN",
        "outputId": "987c6119-ac2f-44ea-9d29-ad5eb9833105",
        "colab": {
          "base_uri": "https://localhost:8080/"
        }
      },
      "outputs": [
        {
          "output_type": "stream",
          "name": "stdout",
          "text": [
            "Using GPU cuda:0\n"
          ]
        },
        {
          "output_type": "execute_result",
          "data": {
            "text/plain": [
              "device(type='cuda', index=0)"
            ]
          },
          "metadata": {},
          "execution_count": 8
        }
      ],
      "source": [
        "if torch.cuda.is_available:\n",
        "  device = torch.device(\"cuda\")\n",
        "  devices = list(range(torch.cuda.device_count()))\n",
        "  if len(devices) > 0:\n",
        "    device = torch.device(f\"cuda:{devices[0]}\")\n",
        "    print(f\"Using GPU {device}\")\n",
        "  else:\n",
        "    device = torch.device(\"cpu\")\n",
        "    print(\"CUDA available, but no GPU available\")\n",
        "else:\n",
        "  print(\"CUDA is not available\")\n",
        "  device = torch.device(\"cpu\")\n",
        "\n",
        "device"
      ]
    },
    {
      "cell_type": "code",
      "execution_count": 9,
      "metadata": {
        "id": "vTA6uDsPOsuY",
        "outputId": "6e713e20-a2c1-4007-ee87-f032999a56fc",
        "colab": {
          "base_uri": "https://localhost:8080/"
        }
      },
      "outputs": [
        {
          "output_type": "stream",
          "name": "stdout",
          "text": [
            "cuda:0 cuda:0 cuda:0\n"
          ]
        }
      ],
      "source": [
        "if device != torch.device(\"cpu\"):\n",
        "  t1_gpu = t1.to(device)\n",
        "  t2_gpu = t2.to(\"cuda\")\n",
        "  t3_gpu = t3.to(\"cuda:0\")\n",
        "\n",
        "  print(t1_gpu.device, t2_gpu.device, t3_gpu.device)"
      ]
    },
    {
      "cell_type": "code",
      "execution_count": 10,
      "metadata": {
        "id": "vTSwc4GnPFF3",
        "outputId": "dc2689dd-f577-45cb-d5d7-a295b2ac1e21",
        "colab": {
          "base_uri": "https://localhost:8080/"
        }
      },
      "outputs": [
        {
          "output_type": "stream",
          "name": "stdout",
          "text": [
            "cuda:0\n"
          ]
        }
      ],
      "source": [
        "if device != torch.device(\"cpu\"):\n",
        "  t4_gpu = t1_gpu + t2_gpu * t3_gpu\n",
        "  print(t4_gpu.device)"
      ]
    },
    {
      "cell_type": "code",
      "execution_count": 11,
      "metadata": {
        "id": "y0m-uPUlYFpN",
        "outputId": "bcef7b82-3c93-4905-d804-eefff8294698",
        "colab": {
          "base_uri": "https://localhost:8080/"
        }
      },
      "outputs": [
        {
          "output_type": "stream",
          "name": "stdout",
          "text": [
            "Expected all tensors to be on the same device, but found at least two devices, cuda:0 and cpu!\n"
          ]
        }
      ],
      "source": [
        "if device != torch.device(\"cpu\"):\n",
        "  try:\n",
        "    t4_mixed = t4_gpu + t4\n",
        "  except RuntimeError as e:\n",
        "    t4_mixed = None\n",
        "    print(e)\n",
        "\n",
        "  assert t4_mixed is None"
      ]
    },
    {
      "cell_type": "markdown",
      "metadata": {
        "id": "bYbdCWUEZoCm"
      },
      "source": [
        "## Tensor Indexing"
      ]
    },
    {
      "cell_type": "code",
      "execution_count": 12,
      "metadata": {
        "id": "SqV_HM3JZle7"
      },
      "outputs": [],
      "source": [
        "# Create integer range on tensor a with dim (3, 4, 2)\n",
        "torch.manual_seed(42)\n",
        "arr = torch.arange(24).reshape(3, 4, 2)"
      ]
    },
    {
      "cell_type": "code",
      "execution_count": 13,
      "metadata": {
        "id": "SQpYtxwYfx8K",
        "outputId": "6a340647-8045-4630-cb0d-fd79155c0678",
        "colab": {
          "base_uri": "https://localhost:8080/"
        }
      },
      "outputs": [
        {
          "output_type": "execute_result",
          "data": {
            "text/plain": [
              "tensor([[[ 0,  1],\n",
              "         [ 2,  3],\n",
              "         [ 4,  5],\n",
              "         [ 6,  7]],\n",
              "\n",
              "        [[ 8,  9],\n",
              "         [10, 11],\n",
              "         [12, 13],\n",
              "         [14, 15]]])"
            ]
          },
          "metadata": {},
          "execution_count": 13
        }
      ],
      "source": [
        "# Index the first two entries on the first dimension\n",
        "arr[:2]"
      ]
    },
    {
      "cell_type": "code",
      "execution_count": 14,
      "metadata": {
        "id": "w7RTF2eAf-wc",
        "outputId": "343a9b3a-3eb1-43b8-d9ab-fbf9546ee776",
        "colab": {
          "base_uri": "https://localhost:8080/"
        }
      },
      "outputs": [
        {
          "output_type": "execute_result",
          "data": {
            "text/plain": [
              "tensor([[[ 8,  9],\n",
              "         [10, 11],\n",
              "         [12, 13],\n",
              "         [14, 15]],\n",
              "\n",
              "        [[16, 17],\n",
              "         [18, 19],\n",
              "         [20, 21],\n",
              "         [22, 23]]])"
            ]
          },
          "metadata": {},
          "execution_count": 14
        }
      ],
      "source": [
        "# Index the last two entries on the first dimension\n",
        "arr[1:]"
      ]
    },
    {
      "cell_type": "code",
      "execution_count": 15,
      "metadata": {
        "id": "Av8sWpJPgDLA",
        "outputId": "5d852c22-308c-40de-acee-718bec790f5e",
        "colab": {
          "base_uri": "https://localhost:8080/"
        }
      },
      "outputs": [
        {
          "output_type": "execute_result",
          "data": {
            "text/plain": [
              "tensor([[[ 8,  9],\n",
              "         [10, 11],\n",
              "         [12, 13],\n",
              "         [14, 15]],\n",
              "\n",
              "        [[16, 17],\n",
              "         [18, 19],\n",
              "         [20, 21],\n",
              "         [22, 23]]])"
            ]
          },
          "metadata": {},
          "execution_count": 15
        }
      ],
      "source": [
        "# Index the last two entries on the first dimension\n",
        "arr[-2:]"
      ]
    },
    {
      "cell_type": "code",
      "execution_count": 16,
      "metadata": {
        "id": "aug-pAhkgHeQ",
        "outputId": "69639276-e823-4eee-d7d8-0ec7b150b5f7",
        "colab": {
          "base_uri": "https://localhost:8080/"
        }
      },
      "outputs": [
        {
          "output_type": "execute_result",
          "data": {
            "text/plain": [
              "tensor([[[10, 11],\n",
              "         [12, 13]],\n",
              "\n",
              "        [[18, 19],\n",
              "         [20, 21]]])"
            ]
          },
          "metadata": {},
          "execution_count": 16
        }
      ],
      "source": [
        "# Mixed indexing\n",
        "arr[1:, 1:3]"
      ]
    },
    {
      "cell_type": "code",
      "execution_count": 17,
      "metadata": {
        "id": "emz9XiWagQZg",
        "outputId": "117425ae-70c5-4ec6-a5cf-f1e236cf45c5",
        "colab": {
          "base_uri": "https://localhost:8080/"
        }
      },
      "outputs": [
        {
          "output_type": "execute_result",
          "data": {
            "text/plain": [
              "tensor([[[10, 11],\n",
              "         [12, 13]],\n",
              "\n",
              "        [[18, 19],\n",
              "         [20, 21]]])"
            ]
          },
          "metadata": {},
          "execution_count": 17
        }
      ],
      "source": [
        "# Mixed indexing\n",
        "arr[-2:, 1:3, :]"
      ]
    },
    {
      "cell_type": "code",
      "execution_count": 18,
      "metadata": {
        "id": "2cR0R_GOgTrJ",
        "outputId": "56935ed5-991f-422c-977f-b8b6104a8846",
        "colab": {
          "base_uri": "https://localhost:8080/"
        }
      },
      "outputs": [
        {
          "output_type": "stream",
          "name": "stdout",
          "text": [
            "tensor([[[ True, False],\n",
            "         [ True, False],\n",
            "         [ True, False],\n",
            "         [ True, False]],\n",
            "\n",
            "        [[ True, False],\n",
            "         [ True, False],\n",
            "         [ True, False],\n",
            "         [ True, False]],\n",
            "\n",
            "        [[ True, False],\n",
            "         [ True, False],\n",
            "         [ True, False],\n",
            "         [ True, False]]])\n"
          ]
        },
        {
          "output_type": "execute_result",
          "data": {
            "text/plain": [
              "tensor([[[-1,  1],\n",
              "         [-1,  3],\n",
              "         [-1,  5],\n",
              "         [-1,  7]],\n",
              "\n",
              "        [[-1,  9],\n",
              "         [-1, 11],\n",
              "         [-1, 13],\n",
              "         [-1, 15]],\n",
              "\n",
              "        [[-1, 17],\n",
              "         [-1, 19],\n",
              "         [-1, 21],\n",
              "         [-1, 23]]])"
            ]
          },
          "metadata": {},
          "execution_count": 18
        }
      ],
      "source": [
        "# Boolean conditions\n",
        "even_entries = arr % 2 == 0\n",
        "print(even_entries)\n",
        "arr[even_entries] = -1\n",
        "arr"
      ]
    },
    {
      "cell_type": "markdown",
      "metadata": {
        "id": "KuUPET3tg1gX"
      },
      "source": [
        "## Tensor Reshaping"
      ]
    },
    {
      "cell_type": "code",
      "execution_count": 19,
      "metadata": {
        "id": "uiMKv2ehg00D",
        "outputId": "bc95f605-2d5b-4848-c1f4-9d6dec5a6812",
        "colab": {
          "base_uri": "https://localhost:8080/"
        }
      },
      "outputs": [
        {
          "output_type": "execute_result",
          "data": {
            "text/plain": [
              "tensor([[[ 0.3367,  0.1288,  0.2345,  0.2303, -1.1229]],\n",
              "\n",
              "        [[-0.1863,  2.2082, -0.6380,  0.4617,  0.2674]],\n",
              "\n",
              "        [[ 0.5349,  0.8094,  1.1103, -1.6898, -0.9890]]])"
            ]
          },
          "metadata": {},
          "execution_count": 19
        }
      ],
      "source": [
        "t = torch.randn(3, 1, 5)\n",
        "t"
      ]
    },
    {
      "cell_type": "code",
      "execution_count": 20,
      "metadata": {
        "id": "-EaPlmtBg9tK",
        "outputId": "a9b0328e-efa8-45ae-ab6a-468bb75e7f13",
        "colab": {
          "base_uri": "https://localhost:8080/"
        }
      },
      "outputs": [
        {
          "output_type": "execute_result",
          "data": {
            "text/plain": [
              "torch.Size([3, 5])"
            ]
          },
          "metadata": {},
          "execution_count": 20
        }
      ],
      "source": [
        "t.squeeze().shape"
      ]
    },
    {
      "cell_type": "code",
      "execution_count": 21,
      "metadata": {
        "id": "cXlmwecnhPjf",
        "outputId": "69c58aca-1aa9-4873-f5bc-356d551d4a7d",
        "colab": {
          "base_uri": "https://localhost:8080/"
        }
      },
      "outputs": [
        {
          "output_type": "execute_result",
          "data": {
            "text/plain": [
              "torch.Size([1, 3, 1, 5])"
            ]
          },
          "metadata": {},
          "execution_count": 21
        }
      ],
      "source": [
        "t.unsqueeze(0).shape"
      ]
    },
    {
      "cell_type": "code",
      "execution_count": 22,
      "metadata": {
        "id": "XZDOXuYVhV_Z",
        "outputId": "2be3dfdc-936c-485e-d2a8-e8f58cd5e326",
        "colab": {
          "base_uri": "https://localhost:8080/"
        }
      },
      "outputs": [
        {
          "output_type": "execute_result",
          "data": {
            "text/plain": [
              "torch.Size([3, 1, 1, 5])"
            ]
          },
          "metadata": {},
          "execution_count": 22
        }
      ],
      "source": [
        "t.unsqueeze(1).shape"
      ]
    },
    {
      "cell_type": "code",
      "execution_count": 23,
      "metadata": {
        "id": "vNVD6i0Lg_z6",
        "outputId": "133f4937-4ef8-40ee-bfc6-35ec99a13bdb",
        "colab": {
          "base_uri": "https://localhost:8080/"
        }
      },
      "outputs": [
        {
          "output_type": "execute_result",
          "data": {
            "text/plain": [
              "torch.Size([3, 1, 5, 1])"
            ]
          },
          "metadata": {},
          "execution_count": 23
        }
      ],
      "source": [
        "t.unsqueeze(3).shape"
      ]
    },
    {
      "cell_type": "code",
      "execution_count": 24,
      "metadata": {
        "id": "CGPDCsYthCbd",
        "outputId": "c45f36ca-168f-4104-8f80-5f7625965609",
        "colab": {
          "base_uri": "https://localhost:8080/"
        }
      },
      "outputs": [
        {
          "output_type": "execute_result",
          "data": {
            "text/plain": [
              "torch.Size([3, 5, 1])"
            ]
          },
          "metadata": {},
          "execution_count": 24
        }
      ],
      "source": [
        "t.transpose(1, 2).shape"
      ]
    },
    {
      "cell_type": "code",
      "execution_count": 25,
      "metadata": {
        "id": "m_o4CTUJhJqG",
        "outputId": "0fa64876-9ebd-439d-8c4a-30f46fd8027d",
        "colab": {
          "base_uri": "https://localhost:8080/"
        }
      },
      "outputs": [
        {
          "output_type": "execute_result",
          "data": {
            "text/plain": [
              "torch.Size([1, 3, 5])"
            ]
          },
          "metadata": {},
          "execution_count": 25
        }
      ],
      "source": [
        "t.permute(1, 0, 2).shape"
      ]
    },
    {
      "cell_type": "markdown",
      "metadata": {
        "id": "D4iPTxc-hieg"
      },
      "source": [
        "## Tensor Reduction"
      ]
    },
    {
      "cell_type": "code",
      "execution_count": 26,
      "metadata": {
        "id": "gLnJcOKhhj-B"
      },
      "outputs": [],
      "source": [
        "t = torch.randn(5, 2, 3)"
      ]
    },
    {
      "cell_type": "code",
      "execution_count": 27,
      "metadata": {
        "id": "uOGGo5KjiaIw",
        "outputId": "c34d693d-2eb2-4f8a-d261-86eb8c0fc0a1",
        "colab": {
          "base_uri": "https://localhost:8080/"
        }
      },
      "outputs": [
        {
          "output_type": "stream",
          "name": "stdout",
          "text": [
            "Shape: torch.Size([2, 3])\n"
          ]
        },
        {
          "output_type": "execute_result",
          "data": {
            "text/plain": [
              "tensor([[-0.3072,  1.5239,  0.0075],\n",
              "        [ 2.4961,  1.0065, -1.5828]])"
            ]
          },
          "metadata": {},
          "execution_count": 27
        }
      ],
      "source": [
        "red_t = t.sum(0)\n",
        "print(f\"Shape: {red_t.shape}\")\n",
        "red_t"
      ]
    },
    {
      "cell_type": "code",
      "execution_count": 28,
      "metadata": {
        "id": "xQ9NT4Bti768",
        "outputId": "4830606a-5e0e-4711-fa1b-366152ac2a23",
        "colab": {
          "base_uri": "https://localhost:8080/"
        }
      },
      "outputs": [
        {
          "output_type": "stream",
          "name": "stdout",
          "text": [
            "Shape: torch.Size([1, 2, 3])\n"
          ]
        },
        {
          "output_type": "execute_result",
          "data": {
            "text/plain": [
              "tensor([[[-0.3072,  1.5239,  0.0075],\n",
              "         [ 2.4961,  1.0065, -1.5828]]])"
            ]
          },
          "metadata": {},
          "execution_count": 28
        }
      ],
      "source": [
        "red_t = t.sum(0, keepdim=True)\n",
        "print(f\"Shape: {red_t.shape}\")\n",
        "red_t"
      ]
    },
    {
      "cell_type": "code",
      "execution_count": 29,
      "metadata": {
        "id": "umF2hKF1imCE",
        "outputId": "e341032b-2bee-430f-f1a1-d5d0033497c6",
        "colab": {
          "base_uri": "https://localhost:8080/"
        }
      },
      "outputs": [
        {
          "output_type": "stream",
          "name": "stdout",
          "text": [
            "Shape: torch.Size([2, 3])\n"
          ]
        },
        {
          "output_type": "execute_result",
          "data": {
            "text/plain": [
              "tensor([[-0.0614,  0.3048,  0.0015],\n",
              "        [ 0.4992,  0.2013, -0.3166]])"
            ]
          },
          "metadata": {},
          "execution_count": 29
        }
      ],
      "source": [
        "red_t = t.mean(0)\n",
        "print(f\"Shape: {red_t.shape}\")\n",
        "red_t"
      ]
    },
    {
      "cell_type": "code",
      "execution_count": 30,
      "metadata": {
        "id": "UVxTU01-iupn",
        "outputId": "9b8f98c8-ec12-48a8-d269-30e39fa70573",
        "colab": {
          "base_uri": "https://localhost:8080/"
        }
      },
      "outputs": [
        {
          "output_type": "stream",
          "name": "stdout",
          "text": [
            "Shape: torch.Size([1, 2, 1])\n"
          ]
        },
        {
          "output_type": "execute_result",
          "data": {
            "text/plain": [
              "tensor([[[0.0816],\n",
              "         [0.1280]]])"
            ]
          },
          "metadata": {},
          "execution_count": 30
        }
      ],
      "source": [
        "red_t = t.mean((0, 2), keepdim=True)\n",
        "print(f\"Shape: {red_t.shape}\")\n",
        "red_t"
      ]
    },
    {
      "cell_type": "markdown",
      "metadata": {
        "id": "yT14YiC8kc4n"
      },
      "source": [
        "## Tensor Initialization: Your Turn!"
      ]
    },
    {
      "cell_type": "code",
      "execution_count": 42,
      "metadata": {
        "id": "ym5bMWSlkl1n",
        "outputId": "7108e003-ed64-45ab-93d7-7b1523e96264",
        "colab": {
          "base_uri": "https://localhost:8080/"
        }
      },
      "outputs": [
        {
          "output_type": "execute_result",
          "data": {
            "text/plain": [
              "tensor([[ 0.8375,  0.9092, -0.2566,  1.0063, -0.2400],\n",
              "        [ 0.2211, -0.5333,  0.6433,  0.9657, -0.8036],\n",
              "        [ 0.9522,  0.2050,  0.8093,  0.1484,  0.5282],\n",
              "        [-0.1547,  0.8445,  0.1619, -0.5114,  0.2792],\n",
              "        [-0.5047, -0.1285, -0.4449,  0.7267, -0.8647],\n",
              "        [-0.5050, -0.3093, -0.6587,  0.1034, -1.0819],\n",
              "        [ 0.9893, -0.9305,  0.8457,  0.1823, -0.3557],\n",
              "        [ 0.6769,  0.1707,  0.8851,  0.1198, -0.3455],\n",
              "        [ 0.2943, -0.2971,  0.4610,  0.9780,  0.6332],\n",
              "        [-0.4789,  0.6324,  0.1960,  0.5563, -0.6677]])"
            ]
          },
          "metadata": {},
          "execution_count": 42
        }
      ],
      "source": [
        "def relu_kaiming_init(in_size: int, out_size: int) -> torch.Tensor:\n",
        "  arr = torch.zeros((out_size, in_size))\n",
        "  return relu_kaiming_init_(arr)\n",
        "\n",
        "def relu_kaiming_init_(weights: torch.Tensor):\n",
        "  fan_in = weights.shape[1]\n",
        "  gain = torch.sqrt(torch.tensor(6 / fan_in))\n",
        "  weights.uniform_(-gain, gain)\n",
        "  return weights\n",
        "\n",
        "\n",
        "relu_kaiming_init(5, 10)"
      ]
    },
    {
      "cell_type": "code",
      "execution_count": 32,
      "metadata": {
        "id": "3fNy-C_qwbM8",
        "outputId": "9e4e32fd-ffba-4a9f-d951-947616d66377",
        "colab": {
          "base_uri": "https://localhost:8080/"
        }
      },
      "outputs": [
        {
          "output_type": "stream",
          "name": "stdout",
          "text": [
            "Mean: -0.023608533665537834\n",
            "Std: 0.28778600692749023\n"
          ]
        }
      ],
      "source": [
        "# Test test test!\n",
        "torch.manual_seed(42)\n",
        "\n",
        "# Right shape\n",
        "t1 = relu_kaiming_init(5, 10)\n",
        "assert t1.shape == (10, 5)\n",
        "\n",
        "# Inplace edit\n",
        "t2 = torch.zeros(30, 25)\n",
        "t2_old = t2.clone()\n",
        "relu_kaiming_init_(t2)\n",
        "assert not torch.allclose(t2_old, t2)\n",
        "assert torch.allclose(t2_old, torch.tensor(0.0))\n",
        "\n",
        "# Mean\n",
        "print(f\"Mean: {t2.mean()}\")\n",
        "print(f\"Std: {t2.std()}\")"
      ]
    },
    {
      "cell_type": "markdown",
      "metadata": {
        "id": "TF_ST8pbkIbQ"
      },
      "source": [
        "## AutoGrad"
      ]
    },
    {
      "cell_type": "code",
      "execution_count": 33,
      "metadata": {
        "id": "_Q8ngRvwkOHL",
        "outputId": "631db4b7-4ec6-4d1c-ebbd-81bedb544099",
        "colab": {
          "base_uri": "https://localhost:8080/"
        }
      },
      "outputs": [
        {
          "output_type": "execute_result",
          "data": {
            "text/plain": [
              "(tensor([[[ 0.9213,  0.5282, -0.0082, -1.4493, -0.6052],\n",
              "          [-0.1792,  0.1996, -1.2462, -0.4146,  1.4559],\n",
              "          [ 0.3317, -1.0001, -0.6920, -0.4720, -1.2894],\n",
              "          [ 1.0763, -1.0667, -1.9893,  0.2973,  0.4345]],\n",
              " \n",
              "         [[ 0.0034, -1.0240,  0.2240, -0.7555, -0.1349],\n",
              "          [ 0.1488, -0.2378, -0.1014,  0.9077, -0.3669],\n",
              "          [-0.0186,  0.0285, -1.4314, -0.0398, -0.5003],\n",
              "          [ 0.2930,  0.1839, -0.7940,  1.3019, -1.0228]]]),\n",
              " None,\n",
              " None)"
            ]
          },
          "metadata": {},
          "execution_count": 33
        }
      ],
      "source": [
        "t = torch.randn(2, 4, 5)\n",
        "t.data, t.grad, t.grad_fn"
      ]
    },
    {
      "cell_type": "code",
      "execution_count": 34,
      "metadata": {
        "id": "vEdP04w8k7d5",
        "outputId": "a802598c-1865-4356-da2c-1c8ec357455a",
        "colab": {
          "base_uri": "https://localhost:8080/"
        }
      },
      "outputs": [
        {
          "output_type": "stream",
          "name": "stdout",
          "text": [
            "torch.Size([32, 10])\n",
            "None\n",
            "x.grad: None\n",
            "prev_h.grad: None\n",
            "W_h.grad (torch.Size([10, 10]))\n",
            "tensor([[ 2.5315e+00,  1.1489e+00, -5.1875e-02,  7.1294e-01,  1.3669e-01,\n",
            "          2.4356e+00,  1.7606e+00, -1.1490e+00, -3.7367e+00,  1.3773e+00],\n",
            "        [ 1.8930e-01, -1.2707e+00, -3.3900e+00, -7.2954e-01,  1.8245e+00,\n",
            "          2.9958e+00,  2.0013e+00, -3.2437e-02, -5.7523e-02,  2.1339e+00],\n",
            "        [ 6.1874e-01,  1.4638e+00, -1.9598e+00, -2.2327e+00, -3.9282e-01,\n",
            "          2.6015e+00,  3.0394e-01, -3.0979e+00, -2.1276e-01, -5.4733e-01],\n",
            "        [ 1.1695e-01, -1.1693e+00,  1.0359e+00, -3.9654e+00,  3.9509e-01,\n",
            "          3.3311e-01,  6.5937e-01,  5.5830e-01, -2.2075e+00,  2.4853e+00],\n",
            "        [ 1.3329e+00, -3.3769e-01, -1.4934e-01, -1.8652e+00, -1.0839e-01,\n",
            "          4.7164e-01,  2.2909e+00,  2.0723e+00,  1.8685e+00, -5.3951e-01],\n",
            "        [-5.5833e+00, -1.4223e+00, -1.9319e+00,  1.5750e+00, -1.9241e+00,\n",
            "          1.1815e+00,  1.5489e+00, -1.4915e+00,  5.7945e+00,  8.7710e-01],\n",
            "        [-8.9498e-01,  1.5601e-02, -2.3168e+00, -3.2310e+00, -2.8312e+00,\n",
            "         -1.1808e+00,  2.0328e+00,  2.2275e+00,  2.7785e+00, -4.5087e-03],\n",
            "        [ 3.8847e-01, -3.3335e-01, -2.6448e+00, -1.4527e+00, -5.6457e-01,\n",
            "          1.2768e+00,  3.4461e-01,  1.4288e-01, -9.9321e-01,  5.2943e-01],\n",
            "        [ 1.7589e+00, -2.7610e-01, -1.2552e+00, -1.4908e+00, -1.5923e+00,\n",
            "          4.2495e+00,  1.4750e+00, -2.1702e+00, -1.3876e+00,  1.0168e+00],\n",
            "        [ 5.2612e-01,  3.2674e+00,  1.3952e+00, -2.4358e-01, -2.7037e+00,\n",
            "         -2.4061e+00,  5.4104e-01, -2.4456e-01,  2.7217e+00,  2.6909e+00]])\n",
            "W_x.grad (torch.Size([10, 5]))\n",
            "tensor([[ 0.0228,  3.7504, -0.9153,  2.7919,  2.2693],\n",
            "        [ 1.4115,  3.0199, -2.4772, -2.9528,  3.9786],\n",
            "        [ 1.7354,  1.8052, -3.0667,  0.0924,  2.8419],\n",
            "        [ 2.6442,  1.6228, -0.8238, -1.4451,  0.6162],\n",
            "        [ 0.8656,  1.6007, -0.6452,  0.4130,  2.1845],\n",
            "        [ 0.1182,  3.3510, -3.3379, -2.4462, -0.8565],\n",
            "        [-0.1761,  2.8023,  0.6008,  1.9460,  0.2447],\n",
            "        [-0.0602,  2.4315, -2.0030, -0.1176,  1.7758],\n",
            "        [-0.4752,  2.8271, -3.0187,  0.5890,  1.2861],\n",
            "        [-0.4201,  3.5879, -1.1974,  3.5932, -0.1912]])\n"
          ]
        }
      ],
      "source": [
        "import torch\n",
        "\n",
        "torch.manual_seed(42)\n",
        "batch_size = 32\n",
        "in_shape = 5\n",
        "hh_shape = 10\n",
        "\n",
        "# Input (Current Step)\n",
        "x = torch.randn(batch_size, in_shape)\n",
        "# Hidden Representation (Previous Step)\n",
        "prev_h = torch.randn(batch_size, hh_shape)\n",
        "\n",
        "# Computation\n",
        "W_x = torch.randn(hh_shape, in_shape, requires_grad=True)\n",
        "i2h = torch.mm(x, W_x.t())\n",
        "W_h = torch.randn(hh_shape, hh_shape, requires_grad=True)\n",
        "h2h = torch.mm(prev_h, W_h.t())\n",
        "next_h = i2h + h2h\n",
        "next_h = next_h.tanh()\n",
        "\n",
        "print(next_h.shape)\n",
        "\n",
        "# Let AutoGrad compute the derivative of tensors requiring grad\n",
        "print(next_h.backward(torch.ones(batch_size, hh_shape)))\n",
        "\n",
        "print(f\"x.grad: {x.grad}\")\n",
        "print(f\"prev_h.grad: {prev_h.grad}\")\n",
        "print(f\"W_h.grad ({W_h.grad.shape})\\n{W_h.grad}\")\n",
        "print(f\"W_x.grad ({W_x.grad.shape})\\n{W_x.grad}\")\n"
      ]
    },
    {
      "cell_type": "markdown",
      "metadata": {
        "id": "hFyEPBVRmgBr"
      },
      "source": [
        "## Torch Module"
      ]
    },
    {
      "cell_type": "code",
      "execution_count": 35,
      "metadata": {
        "id": "YHqa8c3foaTz"
      },
      "outputs": [],
      "source": [
        "import torch.nn as nn\n",
        "import torch.nn.functional as F\n",
        "\n",
        "class ISPR_LinearLayer(nn.Module):\n",
        "  def __init__(self, in_shape, out_shape, kaiming_custom = False):\n",
        "    super().__init__()\n",
        "    self.weight = nn.Parameter(torch.randn(out_shape, in_shape))\n",
        "    self.bias = nn.Parameter(torch.randn(out_shape))\n",
        "\n",
        "    if kaiming_custom:\n",
        "      # Why would this lead to an error without torch.no_grad()?\n",
        "      with torch.no_grad():\n",
        "        relu_kaiming_init_(self.weight)\n",
        "    else:\n",
        "      # Default PyTorch Version\n",
        "      nn.init.kaiming_uniform_(self.weight, mode=\"fan_in\", nonlinearity=\"relu\")\n",
        "\n",
        "    nn.init.zeros_(self.bias)\n",
        "\n",
        "  def forward(self, in_tensor):\n",
        "    return in_tensor @ self.weight.t() + self.bias"
      ]
    },
    {
      "cell_type": "code",
      "execution_count": 36,
      "metadata": {
        "id": "jR5e8Qt9mfLB",
        "outputId": "1360130b-8f5e-4542-9eff-543f048b075c",
        "colab": {
          "base_uri": "https://localhost:8080/"
        }
      },
      "outputs": [
        {
          "output_type": "stream",
          "name": "stdout",
          "text": [
            "Net1 parameters: 6\n",
            "Net2 parameters: 0\n"
          ]
        }
      ],
      "source": [
        "class ISPR_MultilayerPerceptron(nn.Module):\n",
        "  def __init__(self,\n",
        "               layer_size: list[int],\n",
        "               wrong_list: bool = False):\n",
        "    \"\"\"\n",
        "    Multi-layer Perceptron, where the size\n",
        "    of each layer is contained in the `layer_size` list.\n",
        "    \"\"\"\n",
        "    super().__init__() #<- remember to call the superclass\n",
        "\n",
        "    fully_connected = [\n",
        "        ISPR_LinearLayer(layer_size[i], layer_size[i+1])\n",
        "        for i in range(len(layer_size) - 1)]\n",
        "\n",
        "    # Wrong list\n",
        "    if wrong_list:\n",
        "      self.fc = fully_connected\n",
        "    else:\n",
        "      self.fc = nn.ModuleList(fully_connected)\n",
        "\n",
        "  def forward(self, x):\n",
        "\n",
        "    for fc_layer in self.fc:\n",
        "      x = fc_layer(x)\n",
        "      x = F.relu(x)\n",
        "\n",
        "    return x\n",
        "\n",
        "layers = [5, 10, 20, 1]\n",
        "net_1 = ISPR_MultilayerPerceptron(layers)\n",
        "net_2 = ISPR_MultilayerPerceptron(layers, wrong_list=True)\n",
        "\n",
        "print(f\"Net1 parameters: {len(list(net_1.parameters()))}\")\n",
        "print(f\"Net2 parameters: {len(list(net_2.parameters()))}\")"
      ]
    },
    {
      "cell_type": "markdown",
      "metadata": {
        "id": "dmqE5xAJrD3Q"
      },
      "source": [
        "## Dataset"
      ]
    },
    {
      "cell_type": "code",
      "execution_count": 37,
      "metadata": {
        "id": "XcWto9WqrC-8",
        "outputId": "3ee68524-b024-4fcf-90c1-1923f85155bd",
        "colab": {
          "base_uri": "https://localhost:8080/"
        }
      },
      "outputs": [
        {
          "output_type": "stream",
          "name": "stdout",
          "text": [
            "x_data shape: torch.Size([1000, 5])\n",
            "y_data shape: torch.Size([1000, 1])\n",
            "Train loader length: 22\n",
            "Val loader length: 7\n",
            "Test loader length: 4\n"
          ]
        }
      ],
      "source": [
        "# Set seed to generate simulated dataset\n",
        "torch.manual_seed(42)\n",
        "\n",
        "n_samples = 1000\n",
        "x_data = torch.randn(n_samples, 5)\n",
        "y_data = net_1(x_data) + 1e-2 * torch.randn(n_samples, 1)\n",
        "\n",
        "# Important! Detach y_data\n",
        "y_data = y_data.detach()\n",
        "\n",
        "print(f\"x_data shape: {x_data.shape}\")\n",
        "print(f\"y_data shape: {y_data.shape}\")\n",
        "\n",
        "# Create dataset\n",
        "dset = torch.utils.data.TensorDataset(x_data, y_data)\n",
        "\n",
        "# Split train, val, test (0.7, 0.2, 0.1)\n",
        "n_train = int(0.7 * n_samples)\n",
        "n_val = int(0.2 * n_samples)\n",
        "n_test = n_samples - n_train - n_val\n",
        "\n",
        "# Split dataset\n",
        "train_dset, val_dset, test_dset = \\\n",
        "  torch.utils.data.random_split(dset, [n_train, n_val, n_test])\n",
        "\n",
        "# Create loaders\n",
        "batch_size = 32\n",
        "tr_loader = torch.utils.data.DataLoader(train_dset, batch_size, shuffle=True)\n",
        "val_loader = torch.utils.data.DataLoader(val_dset, batch_size)\n",
        "test_loader = torch.utils.data.DataLoader(test_dset, batch_size)\n",
        "\n",
        "# Print lengths\n",
        "print(f\"Train loader length: {len(tr_loader)}\")\n",
        "print(f\"Val loader length: {len(val_loader)}\")\n",
        "print(f\"Test loader length: {len(test_loader)}\")"
      ]
    },
    {
      "cell_type": "markdown",
      "metadata": {
        "id": "cDYzqbh8ogBi"
      },
      "source": [
        "## Training Loop"
      ]
    },
    {
      "cell_type": "code",
      "execution_count": 38,
      "metadata": {
        "id": "lTFtLsbooU27",
        "outputId": "66848f0e-2ae6-4528-ee6b-d198661fc3a8",
        "colab": {
          "base_uri": "https://localhost:8080/"
        }
      },
      "outputs": [
        {
          "output_type": "stream",
          "name": "stdout",
          "text": [
            "Epoch. 0 | Train Loss: 2.408891201019287 | Val Loss: 1.7388951778411865\n",
            "Epoch. 10 | Train Loss: 0.48262080550193787 | Val Loss: 0.566037654876709\n",
            "Epoch. 20 | Train Loss: 0.28131791949272156 | Val Loss: 0.3381621539592743\n",
            "Epoch. 30 | Train Loss: 0.18660692870616913 | Val Loss: 0.23684652149677277\n",
            "Epoch. 40 | Train Loss: 0.15966500341892242 | Val Loss: 0.210013285279274\n",
            "Epoch. 50 | Train Loss: 0.1476651132106781 | Val Loss: 0.1957404613494873\n",
            "Epoch. 60 | Train Loss: 0.1386399269104004 | Val Loss: 0.19127266108989716\n",
            "Epoch. 70 | Train Loss: 0.13173657655715942 | Val Loss: 0.19019483029842377\n",
            "Epoch. 80 | Train Loss: 0.12505604326725006 | Val Loss: 0.17553851008415222\n",
            "Epoch. 90 | Train Loss: 0.11778971552848816 | Val Loss: 0.17259517312049866\n",
            "Epoch. 100 | Train Loss: 0.11172189563512802 | Val Loss: 0.1597665548324585\n",
            "Epoch. 110 | Train Loss: 0.10599798709154129 | Val Loss: 0.1508783996105194\n",
            "Epoch. 120 | Train Loss: 0.10005590319633484 | Val Loss: 0.13807035982608795\n",
            "Epoch. 130 | Train Loss: 0.09389229118824005 | Val Loss: 0.12686841189861298\n",
            "Epoch. 140 | Train Loss: 0.08853112906217575 | Val Loss: 0.11521118134260178\n",
            "Epoch. 150 | Train Loss: 0.08274145424365997 | Val Loss: 0.10522972047328949\n",
            "Epoch. 160 | Train Loss: 0.0784902572631836 | Val Loss: 0.09911128133535385\n",
            "Epoch. 170 | Train Loss: 0.0750480368733406 | Val Loss: 0.09206616878509521\n",
            "Epoch. 180 | Train Loss: 0.07140255719423294 | Val Loss: 0.09146302938461304\n",
            "Epoch. 190 | Train Loss: 0.06910773366689682 | Val Loss: 0.08537424355745316\n",
            "Epoch. 200 | Train Loss: 0.06669137626886368 | Val Loss: 0.08320339769124985\n",
            "Epoch. 210 | Train Loss: 0.0643625557422638 | Val Loss: 0.07909616082906723\n",
            "Epoch. 220 | Train Loss: 0.06230216845870018 | Val Loss: 0.07705346494913101\n",
            "Epoch. 230 | Train Loss: 0.060044076293706894 | Val Loss: 0.07608532905578613\n",
            "Epoch. 240 | Train Loss: 0.05892593786120415 | Val Loss: 0.0740344449877739\n",
            "Epoch. 250 | Train Loss: 0.05723756551742554 | Val Loss: 0.07255537807941437\n",
            "Epoch. 260 | Train Loss: 0.05609404668211937 | Val Loss: 0.07150047272443771\n",
            "Epoch. 270 | Train Loss: 0.05542172119021416 | Val Loss: 0.07089044898748398\n",
            "Epoch. 280 | Train Loss: 0.054545868188142776 | Val Loss: 0.07096530497074127\n",
            "Epoch. 290 | Train Loss: 0.05378897488117218 | Val Loss: 0.0685734674334526\n",
            "Epoch. 300 | Train Loss: 0.05359993129968643 | Val Loss: 0.07175640016794205\n",
            "Epoch. 310 | Train Loss: 0.0527849905192852 | Val Loss: 0.07060016691684723\n",
            "Epoch. 320 | Train Loss: 0.05263359472155571 | Val Loss: 0.06924237310886383\n",
            "Epoch. 330 | Train Loss: 0.0525876060128212 | Val Loss: 0.0701296329498291\n",
            "Epoch. 340 | Train Loss: 0.05194509029388428 | Val Loss: 0.06614167243242264\n",
            "Epoch. 350 | Train Loss: 0.05188676342368126 | Val Loss: 0.06738287955522537\n",
            "Epoch. 360 | Train Loss: 0.05140403285622597 | Val Loss: 0.06738349050283432\n",
            "Epoch. 370 | Train Loss: 0.051158782094717026 | Val Loss: 0.06829935312271118\n",
            "Epoch. 380 | Train Loss: 0.05101655796170235 | Val Loss: 0.06838218122720718\n",
            "Epoch. 390 | Train Loss: 0.050718579441308975 | Val Loss: 0.06780447065830231\n",
            "Epoch. 400 | Train Loss: 0.050780560821294785 | Val Loss: 0.06791536509990692\n",
            "Epoch. 410 | Train Loss: 0.050611089915037155 | Val Loss: 0.06867113709449768\n",
            "Epoch. 420 | Train Loss: 0.05043870210647583 | Val Loss: 0.06793217360973358\n",
            "Epoch. 430 | Train Loss: 0.050191234797239304 | Val Loss: 0.06570855528116226\n",
            "Epoch. 440 | Train Loss: 0.05045565217733383 | Val Loss: 0.066497303545475\n",
            "Epoch. 450 | Train Loss: 0.05012566223740578 | Val Loss: 0.06741305440664291\n",
            "Epoch. 460 | Train Loss: 0.0500175841152668 | Val Loss: 0.06703843176364899\n",
            "Epoch. 470 | Train Loss: 0.05003092437982559 | Val Loss: 0.06772051751613617\n",
            "Epoch. 480 | Train Loss: 0.049998436123132706 | Val Loss: 0.0684269592165947\n",
            "Epoch. 490 | Train Loss: 0.04957368224859238 | Val Loss: 0.06993279606103897\n"
          ]
        }
      ],
      "source": [
        "# Init Module\n",
        "net_hat = ISPR_MultilayerPerceptron([5, 5, 5, 1])\n",
        "\n",
        "# Mean Squared Error\n",
        "loss_fn = nn.MSELoss()\n",
        "\n",
        "# Stochastic Gradient Descent\n",
        "optimizer = torch.optim.SGD(net_hat.parameters(), lr=1e-2)\n",
        "\n",
        "# Training Loop\n",
        "n_epochs = 500\n",
        "\n",
        "tr_loss = []\n",
        "vl_loss = []\n",
        "\n",
        "for epoch in range(n_epochs):\n",
        "  # Train\n",
        "  net_hat.train()\n",
        "  epoch_tr_loss = []\n",
        "  for x, y in tr_loader:\n",
        "    y_hat = net_hat(x)\n",
        "    loss = loss_fn(y_hat, y)\n",
        "    loss.backward()\n",
        "    optimizer.step()\n",
        "    optimizer.zero_grad()\n",
        "    epoch_tr_loss.append(loss.item())\n",
        "  epoch_tr_loss = torch.tensor(epoch_tr_loss)\n",
        "  epoch_tr_loss = torch.mean(epoch_tr_loss)\n",
        "\n",
        "  # Validation\n",
        "  net_hat.eval()\n",
        "  epoch_val_loss = []\n",
        "  with torch.no_grad():\n",
        "    for x, y in val_loader:\n",
        "      y_hat = net_hat(x)\n",
        "      loss = loss_fn(y_hat, y)\n",
        "      epoch_val_loss.append(loss.item())\n",
        "  epoch_val_loss = torch.tensor(epoch_val_loss)\n",
        "  epoch_val_loss = torch.mean(epoch_val_loss)\n",
        "\n",
        "  if epoch % 10 == 0:\n",
        "    print(f\"Epoch. {epoch} | Train Loss: {epoch_tr_loss} | Val Loss: {epoch_val_loss}\")\n",
        "\n",
        "  tr_loss.append(epoch_tr_loss.item())\n",
        "  vl_loss.append(epoch_val_loss.item())"
      ]
    },
    {
      "cell_type": "code",
      "execution_count": 39,
      "metadata": {
        "id": "rWRNRaLMNCfG",
        "outputId": "c8a6a458-d720-4423-e5d6-30520aa997f2",
        "colab": {
          "base_uri": "https://localhost:8080/"
        }
      },
      "outputs": [
        {
          "output_type": "stream",
          "name": "stdout",
          "text": [
            "Test Loss: 0.07435428351163864\n"
          ]
        }
      ],
      "source": [
        "# Test Set Performance\n",
        "net_hat.eval()\n",
        "test_loss = []\n",
        "with torch.no_grad():\n",
        "  for x, y in test_loader:\n",
        "    y_hat = net_hat(x)\n",
        "    loss = loss_fn(y_hat, y)\n",
        "    test_loss.append(loss.item())\n",
        "test_loss = torch.tensor(test_loss)\n",
        "test_loss = torch.mean(test_loss).item()\n",
        "print(f\"Test Loss: {test_loss}\")"
      ]
    },
    {
      "cell_type": "code",
      "execution_count": 40,
      "metadata": {
        "id": "ch2xolduoezt",
        "outputId": "3cd472c8-d68e-4951-a62c-763d891912ad",
        "colab": {
          "base_uri": "https://localhost:8080/",
          "height": 436
        }
      },
      "outputs": [
        {
          "output_type": "display_data",
          "data": {
            "text/plain": [
              "<Figure size 640x480 with 1 Axes>"
            ],
            "image/png": "[encoded data removed]"
          },
          "metadata": {}
        }
      ],
      "source": [
        "# Seaborn plot training loss and validation loss\n",
        "import seaborn as sns\n",
        "import matplotlib.pyplot as plt\n",
        "\n",
        "sns.set_theme()\n",
        "\n",
        "sns.lineplot(x=range(n_epochs), y=tr_loss, label=\"Train Loss\")\n",
        "sns.lineplot(x=range(n_epochs), y=vl_loss, label=\"Val Loss\")\n",
        "# Plot horizontal line for test loss\n",
        "plt.axhline(y=test_loss, color='r', linestyle='--', label='Test Loss')\n",
        "plt.legend()\n",
        "plt.show()"
      ]
    },
    {
      "cell_type": "markdown",
      "metadata": {
        "id": "I3d-OI2nOV33"
      },
      "source": [
        "## Your Turn!\n",
        "\n",
        "1. Download the MNIST dataset using [torchvision](https://pytorch.org/vision/main/generated/torchvision.datasets.MNIST.html).\n",
        "2. Instantiate a Convolutional Neural Network (CNN)\n",
        "3. Train the CNN to classify the digits."
      ]
    },
    {
      "cell_type": "code",
      "execution_count": 41,
      "metadata": {
        "id": "9k_EnI5looc2",
        "outputId": "88487fda-3784-44c2-c0ee-d68d09eb2324",
        "colab": {
          "base_uri": "https://localhost:8080/"
        }
      },
      "outputs": [
        {
          "output_type": "stream",
          "name": "stderr",
          "text": [
            "100%|██████████| 9.91M/9.91M [00:00<00:00, 17.7MB/s]\n",
            "100%|██████████| 28.9k/28.9k [00:00<00:00, 482kB/s]\n",
            "100%|██████████| 1.65M/1.65M [00:00<00:00, 4.43MB/s]\n",
            "100%|██████████| 4.54k/4.54k [00:00<00:00, 8.54MB/s]\n"
          ]
        }
      ],
      "source": [
        "import torchvision\n",
        "from torchvision import transforms\n",
        "import torch\n",
        "import torch.nn as nn\n",
        "import torch.nn.functional as F\n",
        "\n",
        "# Seed\n",
        "torch.manual_seed(42)\n",
        "\n",
        "# Load Dataset\n",
        "transform=transforms.Compose([\n",
        "        transforms.ToTensor(),\n",
        "        transforms.Normalize((0.1307,), (0.3081,))\n",
        "        ])\n",
        "\n",
        "mnist_train = torchvision.datasets.MNIST(\n",
        "    'data/', train=True, download=True, transform=transform)\n",
        "mnist_test = torchvision.datasets.MNIST(\n",
        "    'data/', train=False, download=True, transform=transform)\n",
        "\n",
        "\n",
        "# TODO: Use GPU?\n",
        "\n",
        "# TODO: Split MNIST Train and Validation\n",
        "\n",
        "# TODO: Create data loaders\n",
        "\n",
        "# TODO: Define class CNN\n",
        "\n",
        "# TODO: Instantiate CNN\n",
        "\n",
        "# TODO: Train the CNN\n",
        "\n",
        "# TODO: Test Set Performance\n",
        "\n",
        "# TODO: Plot Training Loss and Validation Loss (W&B, TensorBoard, or plain Matplotlib)"
      ]
    },
    {
      "cell_type": "code",
      "execution_count": 41,
      "metadata": {
        "id": "Zhk3AchvBvCh"
      },
      "outputs": [],
      "source": []
    }
  ],
  "metadata": {
    "accelerator": "GPU",
    "colab": {
      "gpuType": "T4",
      "provenance": [],
      "include_colab_link": true
    },
    "kernelspec": {
      "display_name": "Python 3 (ipykernel)",
      "language": "python",
      "name": "python3"
    },
    "language_info": {
      "codemirror_mode": {
        "name": "ipython",
        "version": 3
      },
      "file_extension": ".py",
      "mimetype": "text/x-python",
      "name": "python",
      "nbconvert_exporter": "python",
      "pygments_lexer": "ipython3",
      "version": "3.12.3"
    }
  },
  "nbformat": 4,
  "nbformat_minor": 0
}